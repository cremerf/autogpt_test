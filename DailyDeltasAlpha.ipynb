{
 "cells": [
  {
   "cell_type": "code",
   "execution_count": null,
   "metadata": {},
   "outputs": [],
   "source": [
    "%load_ext autoreload\n",
    "%autoreload 2"
   ]
  },
  {
   "cell_type": "code",
   "execution_count": null,
   "metadata": {},
   "outputs": [],
   "source": [
    "%reload_ext autoreload"
   ]
  },
  {
   "cell_type": "code",
   "execution_count": 2,
   "metadata": {},
   "outputs": [],
   "source": [
    "from packages.extract_tools import ExtractPostgreSQL"
   ]
  },
  {
   "cell_type": "code",
   "execution_count": 3,
   "metadata": {},
   "outputs": [],
   "source": [
    "import dask.dataframe as dd\n",
    "import dask.array as arr\n",
    "import pandas as pd\n",
    "import json\n",
    "import psycopg2\n",
    "import datetime\n",
    "import numpy as np"
   ]
  },
  {
   "cell_type": "code",
   "execution_count": 4,
   "metadata": {},
   "outputs": [],
   "source": [
    "from google.oauth2 import service_account\n",
    "from google.cloud import bigquery"
   ]
  },
  {
   "cell_type": "code",
   "execution_count": 5,
   "metadata": {},
   "outputs": [],
   "source": [
    "from packages.paths import DWHPaths\n",
    "PATHS = DWHPaths()"
   ]
  },
  {
   "cell_type": "code",
   "execution_count": 7,
   "metadata": {},
   "outputs": [],
   "source": [
    "table_name= 'available_activities'\n",
    "\n",
    "with open(PATHS.EXTRACT_KEYS) as creds:\n",
    "    data = json.load(creds)\n",
    "\n",
    "username = data['username']\n",
    "password = data['password']\n",
    "host = data['host']\n",
    "port = data['port']\n",
    "database = data['database']\n",
    "dialect = data['dialect']\n",
    "driver = data['driver']\n",
    "project_id = data['project_id_gcp']\n",
    "dataset = data['dataset']"
   ]
  },
  {
   "cell_type": "code",
   "execution_count": 6,
   "metadata": {},
   "outputs": [
    {
     "name": "stdout",
     "output_type": "stream",
     "text": [
      "Connection to ('appaclusterprd-cluster.cluster-ro-cd4icdi1sm9x.us-west-2.rds.amazonaws.com', 'paretopago') OK\n"
     ]
    },
    {
     "name": "stderr",
     "output_type": "stream",
     "text": [
      "/home/fcremer29/focus/appa/DWH/packages/toolbox.py:51: UserWarning: pandas only supports SQLAlchemy connectable (engine/connection) or database string URI or sqlite3 DBAPI2 connection. Other DBAPI2 objects are not tested. Please consider using SQLAlchemy.\n",
      "  df_dtypes = pd.read_sql_query(sql= sql_query, con= self.connect_to_postgres())\n"
     ]
    }
   ],
   "source": [
    "extract = ExtractPostgreSQL(username= username, password= password, host=host, port= port, database=database, dialect=dialect, driver=driver, table=table_name)"
   ]
  },
  {
   "cell_type": "code",
   "execution_count": 18,
   "metadata": {},
   "outputs": [],
   "source": [
    "import dask_bigquery\n",
    "from packages.upload_tools import UploadToBigQuery"
   ]
  },
  {
   "cell_type": "code",
   "execution_count": 19,
   "metadata": {},
   "outputs": [],
   "source": [
    "upload = UploadToBigQuery(path_credentials= PATHS.GCP_KEYS, project_id= project_id, dataset= dataset, table_bq= table_name)"
   ]
  },
  {
   "cell_type": "code",
   "execution_count": 20,
   "metadata": {},
   "outputs": [
    {
     "ename": "TypeError",
     "evalue": "_blocking_poll() got an unexpected keyword argument 'retry'",
     "output_type": "error",
     "traceback": [
      "\u001b[0;31m---------------------------------------------------------------------------\u001b[0m",
      "\u001b[0;31mTypeError\u001b[0m                                 Traceback (most recent call last)",
      "Cell \u001b[0;32mIn[20], line 1\u001b[0m\n\u001b[0;32m----> 1\u001b[0m test1 \u001b[39m=\u001b[39m pd\u001b[39m.\u001b[39;49mread_gbq(query\u001b[39m=\u001b[39;49m\u001b[39m'\u001b[39;49m\u001b[39mSELECT MAX(updated_at) FROM datalakedesarrollo.dwh_testing1.available_activities\u001b[39;49m\u001b[39m'\u001b[39;49m, project_id\u001b[39m=\u001b[39;49m\u001b[39m'\u001b[39;49m\u001b[39mdatalakedesarrollo\u001b[39;49m\u001b[39m'\u001b[39;49m, credentials\u001b[39m=\u001b[39;49mupload\u001b[39m.\u001b[39;49mcredentials)\n",
      "File \u001b[0;32m/home/fcremer29/miniconda3/envs/dwh_appa/lib/python3.9/site-packages/pandas/io/gbq.py:189\u001b[0m, in \u001b[0;36mread_gbq\u001b[0;34m(query, project_id, index_col, col_order, reauth, auth_local_webserver, dialect, location, configuration, credentials, use_bqstorage_api, max_results, progress_bar_type)\u001b[0m\n\u001b[1;32m    186\u001b[0m kwargs[\u001b[39m\"\u001b[39m\u001b[39mprogress_bar_type\u001b[39m\u001b[39m\"\u001b[39m] \u001b[39m=\u001b[39m progress_bar_type\n\u001b[1;32m    187\u001b[0m \u001b[39m# END: new kwargs\u001b[39;00m\n\u001b[0;32m--> 189\u001b[0m \u001b[39mreturn\u001b[39;00m pandas_gbq\u001b[39m.\u001b[39;49mread_gbq(\n\u001b[1;32m    190\u001b[0m     query,\n\u001b[1;32m    191\u001b[0m     project_id\u001b[39m=\u001b[39;49mproject_id,\n\u001b[1;32m    192\u001b[0m     index_col\u001b[39m=\u001b[39;49mindex_col,\n\u001b[1;32m    193\u001b[0m     col_order\u001b[39m=\u001b[39;49mcol_order,\n\u001b[1;32m    194\u001b[0m     reauth\u001b[39m=\u001b[39;49mreauth,\n\u001b[1;32m    195\u001b[0m     auth_local_webserver\u001b[39m=\u001b[39;49mauth_local_webserver,\n\u001b[1;32m    196\u001b[0m     dialect\u001b[39m=\u001b[39;49mdialect,\n\u001b[1;32m    197\u001b[0m     location\u001b[39m=\u001b[39;49mlocation,\n\u001b[1;32m    198\u001b[0m     configuration\u001b[39m=\u001b[39;49mconfiguration,\n\u001b[1;32m    199\u001b[0m     credentials\u001b[39m=\u001b[39;49mcredentials,\n\u001b[1;32m    200\u001b[0m     \u001b[39m*\u001b[39;49m\u001b[39m*\u001b[39;49mkwargs,\n\u001b[1;32m    201\u001b[0m )\n",
      "File \u001b[0;32m/home/fcremer29/miniconda3/envs/dwh_appa/lib/python3.9/site-packages/pandas_gbq/gbq.py:943\u001b[0m, in \u001b[0;36mread_gbq\u001b[0;34m(query_or_table, project_id, index_col, col_order, reauth, auth_local_webserver, dialect, location, configuration, credentials, use_bqstorage_api, max_results, verbose, private_key, progress_bar_type, dtypes, auth_redirect_uri, client_id, client_secret)\u001b[0m\n\u001b[1;32m    928\u001b[0m connector \u001b[39m=\u001b[39m GbqConnector(\n\u001b[1;32m    929\u001b[0m     project_id,\n\u001b[1;32m    930\u001b[0m     reauth\u001b[39m=\u001b[39mreauth,\n\u001b[0;32m   (...)\u001b[0m\n\u001b[1;32m    939\u001b[0m     client_secret\u001b[39m=\u001b[39mclient_secret,\n\u001b[1;32m    940\u001b[0m )\n\u001b[1;32m    942\u001b[0m \u001b[39mif\u001b[39;00m _is_query(query_or_table):\n\u001b[0;32m--> 943\u001b[0m     final_df \u001b[39m=\u001b[39m connector\u001b[39m.\u001b[39;49mrun_query(\n\u001b[1;32m    944\u001b[0m         query_or_table,\n\u001b[1;32m    945\u001b[0m         configuration\u001b[39m=\u001b[39;49mconfiguration,\n\u001b[1;32m    946\u001b[0m         max_results\u001b[39m=\u001b[39;49mmax_results,\n\u001b[1;32m    947\u001b[0m         progress_bar_type\u001b[39m=\u001b[39;49mprogress_bar_type,\n\u001b[1;32m    948\u001b[0m         dtypes\u001b[39m=\u001b[39;49mdtypes,\n\u001b[1;32m    949\u001b[0m     )\n\u001b[1;32m    950\u001b[0m \u001b[39melse\u001b[39;00m:\n\u001b[1;32m    951\u001b[0m     final_df \u001b[39m=\u001b[39m connector\u001b[39m.\u001b[39mdownload_table(\n\u001b[1;32m    952\u001b[0m         query_or_table,\n\u001b[1;32m    953\u001b[0m         max_results\u001b[39m=\u001b[39mmax_results,\n\u001b[1;32m    954\u001b[0m         progress_bar_type\u001b[39m=\u001b[39mprogress_bar_type,\n\u001b[1;32m    955\u001b[0m         dtypes\u001b[39m=\u001b[39mdtypes,\n\u001b[1;32m    956\u001b[0m     )\n",
      "File \u001b[0;32m/home/fcremer29/miniconda3/envs/dwh_appa/lib/python3.9/site-packages/pandas_gbq/gbq.py:527\u001b[0m, in \u001b[0;36mGbqConnector.run_query\u001b[0;34m(self, query, max_results, progress_bar_type, **kwargs)\u001b[0m\n\u001b[1;32m    525\u001b[0m \u001b[39m# Ensure destination is populated.\u001b[39;00m\n\u001b[1;32m    526\u001b[0m \u001b[39mtry\u001b[39;00m:\n\u001b[0;32m--> 527\u001b[0m     query_reply\u001b[39m.\u001b[39;49mresult()\n\u001b[1;32m    528\u001b[0m \u001b[39mexcept\u001b[39;00m \u001b[39mself\u001b[39m\u001b[39m.\u001b[39mhttp_error \u001b[39mas\u001b[39;00m ex:\n\u001b[1;32m    529\u001b[0m     \u001b[39mself\u001b[39m\u001b[39m.\u001b[39mprocess_http_error(ex)\n",
      "File \u001b[0;32m/home/fcremer29/miniconda3/envs/dwh_appa/lib/python3.9/site-packages/google/cloud/bigquery/job.py:3230\u001b[0m, in \u001b[0;36mresult\u001b[0;34m(self, page_size, max_results, retry, timeout, start_index)\u001b[0m\n",
      "File \u001b[0;32m/home/fcremer29/miniconda3/envs/dwh_appa/lib/python3.9/site-packages/google/cloud/bigquery/job.py:835\u001b[0m, in \u001b[0;36mresult\u001b[0;34m(self, retry, timeout)\u001b[0m\n",
      "File \u001b[0;32m/home/fcremer29/miniconda3/envs/dwh_appa/lib/python3.9/site-packages/google/api_core/future/polling.py:256\u001b[0m, in \u001b[0;36mPollingFuture.result\u001b[0;34m(self, timeout, retry, polling)\u001b[0m\n\u001b[1;32m    144\u001b[0m \u001b[39mdef\u001b[39;00m \u001b[39mresult\u001b[39m(\u001b[39mself\u001b[39m, timeout\u001b[39m=\u001b[39m_DEFAULT_VALUE, retry\u001b[39m=\u001b[39m\u001b[39mNone\u001b[39;00m, polling\u001b[39m=\u001b[39m\u001b[39mNone\u001b[39;00m):\n\u001b[1;32m    145\u001b[0m \u001b[39m    \u001b[39m\u001b[39m\"\"\"Get the result of the operation.\u001b[39;00m\n\u001b[1;32m    146\u001b[0m \n\u001b[1;32m    147\u001b[0m \u001b[39m    This method will poll for operation status periodically, blocking if\u001b[39;00m\n\u001b[0;32m   (...)\u001b[0m\n\u001b[1;32m    253\u001b[0m \u001b[39m            the timeout is reached before the operation completes.\u001b[39;00m\n\u001b[1;32m    254\u001b[0m \u001b[39m    \"\"\"\u001b[39;00m\n\u001b[0;32m--> 256\u001b[0m     \u001b[39mself\u001b[39;49m\u001b[39m.\u001b[39;49m_blocking_poll(timeout\u001b[39m=\u001b[39;49mtimeout, retry\u001b[39m=\u001b[39;49mretry, polling\u001b[39m=\u001b[39;49mpolling)\n\u001b[1;32m    258\u001b[0m     \u001b[39mif\u001b[39;00m \u001b[39mself\u001b[39m\u001b[39m.\u001b[39m_exception \u001b[39mis\u001b[39;00m \u001b[39mnot\u001b[39;00m \u001b[39mNone\u001b[39;00m:\n\u001b[1;32m    259\u001b[0m         \u001b[39m# pylint: disable=raising-bad-type\u001b[39;00m\n\u001b[1;32m    260\u001b[0m         \u001b[39m# Pylint doesn't recognize that this is valid in this case.\u001b[39;00m\n\u001b[1;32m    261\u001b[0m         \u001b[39mraise\u001b[39;00m \u001b[39mself\u001b[39m\u001b[39m.\u001b[39m_exception\n",
      "\u001b[0;31mTypeError\u001b[0m: _blocking_poll() got an unexpected keyword argument 'retry'"
     ]
    }
   ],
   "source": [
    "test1 = pd.read_gbq(query='SELECT MAX(updated_at) FROM datalakedesarrollo.dwh_testing1.available_activities', project_id='datalakedesarrollo', credentials=upload.credentials)"
   ]
  },
  {
   "cell_type": "code",
   "execution_count": null,
   "metadata": {},
   "outputs": [],
   "source": []
  },
  {
   "cell_type": "code",
   "execution_count": null,
   "metadata": {},
   "outputs": [],
   "source": []
  },
  {
   "attachments": {},
   "cell_type": "markdown",
   "metadata": {},
   "source": [
    "#### Clean emojis, at signs and hashtags"
   ]
  },
  {
   "cell_type": "code",
   "execution_count": null,
   "metadata": {},
   "outputs": [],
   "source": [
    "\"\"\" def erase_emojis(text):\n",
    "\n",
    "    clean = re.sub(r'[^\\x00-\\x7F]+', '', text)\n",
    "\n",
    "    return clean \"\"\""
   ]
  },
  {
   "cell_type": "code",
   "execution_count": null,
   "metadata": {},
   "outputs": [],
   "source": [
    "import re\n",
    "\n",
    "def remove_non_ascii(string):\n",
    "\n",
    "    return re.sub('[^\\w\\s]|_', '', string)"
   ]
  },
  {
   "cell_type": "code",
   "execution_count": null,
   "metadata": {},
   "outputs": [],
   "source": [
    "def replace_accents(string):\n",
    "    # Replace ñ\n",
    "    string = re.sub('[ñ]', 'n', string)\n",
    "    # Replace accented vowels\n",
    "    string = re.sub('[á|à|ã|â]', 'a', string)\n",
    "    string = re.sub('[é|è|ê]', 'e', string)\n",
    "    string = re.sub('[í|ì|î]', 'i', string)\n",
    "    string = re.sub('[ó|ò|õ|ô]', 'o', string)\n",
    "    string = re.sub('[ú|ù|û]', 'u', string)\n",
    "    \n",
    "    return string"
   ]
  }
 ],
 "metadata": {
  "kernelspec": {
   "display_name": "Python 3",
   "language": "python",
   "name": "python3"
  },
  "language_info": {
   "codemirror_mode": {
    "name": "ipython",
    "version": 3
   },
   "file_extension": ".py",
   "mimetype": "text/x-python",
   "name": "python",
   "nbconvert_exporter": "python",
   "pygments_lexer": "ipython3",
   "version": "3.9.15"
  },
  "orig_nbformat": 4
 },
 "nbformat": 4,
 "nbformat_minor": 2
}
