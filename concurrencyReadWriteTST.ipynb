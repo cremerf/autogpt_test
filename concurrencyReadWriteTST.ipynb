{
 "cells": [
  {
   "cell_type": "code",
   "execution_count": 1,
   "metadata": {},
   "outputs": [],
   "source": [
    "from packages.paths import DWHPaths\n",
    "from packages.extract_tools import ExtractPostgreSQL\n",
    "from dask_cuda import LocalCUDACluster\n",
    "from dask.distributed import Client\n",
    "import dask.dataframe as dd\n",
    "import dask_cudf\n",
    "import numpy as np\n",
    "import json\n",
    "from google.cloud import bigquery\n",
    "from google.oauth2 import service_account\n",
    "from time import perf_counter\n",
    "import pandas as pd\n",
    "import pathlib\n"
   ]
  },
  {
   "cell_type": "code",
   "execution_count": 22,
   "metadata": {},
   "outputs": [],
   "source": [
    "PATHS = DWHPaths()"
   ]
  },
  {
   "cell_type": "code",
   "execution_count": 21,
   "metadata": {},
   "outputs": [],
   "source": [
    "PATHS = DWHPaths()\n",
    "\n",
    "# Script name = table name\n",
    "table_bq = 'testing134'\n",
    "\n",
    "# Extract metadata from credentials path\n",
    "with open(PATHS.EXTRACT_KEYS) as creds:\n",
    "    data = json.load(creds)\n",
    "\n",
    "username = data['username']\n",
    "password = data['password']\n",
    "host = data['host']\n",
    "port = data['port']\n",
    "database = data['database']\n",
    "dialect = data['dialect']\n",
    "driver = data['driver']\n",
    "project_id = data['project_id_gcp']\n",
    "dataset = data['dataset']"
   ]
  }
 ],
 "metadata": {
  "kernelspec": {
   "display_name": "Python 3",
   "language": "python",
   "name": "python3"
  },
  "language_info": {
   "codemirror_mode": {
    "name": "ipython",
    "version": 3
   },
   "file_extension": ".py",
   "mimetype": "text/x-python",
   "name": "python",
   "nbconvert_exporter": "python",
   "pygments_lexer": "ipython3",
   "version": "3.9.15"
  },
  "orig_nbformat": 4
 },
 "nbformat": 4,
 "nbformat_minor": 2
}
